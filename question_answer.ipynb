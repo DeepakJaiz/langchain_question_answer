{
 "cells": [
  {
   "cell_type": "markdown",
   "id": "52824b89-532a-4e54-87e9-1410813cd39e",
   "metadata": {},
   "source": [
    "# LangChain: Q&A over Documents\n",
    "\n",
    "An example might be a tool that would allow you to query a product catalog for items of interest."
   ]
  },
  {
   "cell_type": "code",
   "execution_count": null,
   "id": "10c1f7b9",
   "metadata": {
    "height": 30
   },
   "outputs": [],
   "source": [
    "#pip install --upgrade langchain"
   ]
  },
  {
   "cell_type": "code",
   "execution_count": 1,
   "id": "b7ed03ed-1322-49e3-b2a2-33e94fb592ef",
   "metadata": {
    "height": 97,
    "tags": []
   },
   "outputs": [],
   "source": [
    "import os\n",
    "os.environ[\"OPENAI_API_KEY\"]= \"api key\""
   ]
  },
  {
   "cell_type": "code",
   "execution_count": 9,
   "id": "974acf8e-8f88-42de-88f8-40a82cb58e8b",
   "metadata": {
    "height": 114
   },
   "outputs": [],
   "source": [
    "from langchain.chains import RetrievalQA\n",
    "from langchain.chat_models import ChatOpenAI\n",
    "from langchain.document_loaders import CSVLoader,PyPDFLoader\n",
    "from langchain.vectorstores import DocArrayInMemorySearch\n",
    "from IPython.display import display, Markdown"
   ]
  },
  {
   "cell_type": "code",
   "execution_count": 10,
   "id": "7249846e",
   "metadata": {
    "height": 47
   },
   "outputs": [],
   "source": [
    "file = 'updated_cv.pdf'\n",
    "loader = PyPDFLoader(file_path=file)"
   ]
  },
  {
   "cell_type": "code",
   "execution_count": 11,
   "id": "5bfaba30",
   "metadata": {
    "height": 46
   },
   "outputs": [],
   "source": [
    "from langchain.indexes import VectorstoreIndexCreator"
   ]
  },
  {
   "cell_type": "code",
   "execution_count": 5,
   "id": "9b5ab657",
   "metadata": {
    "height": 30
   },
   "outputs": [
    {
     "name": "stdout",
     "output_type": "stream",
     "text": [
      "Collecting docarray\n",
      "  Downloading docarray-0.32.1-py3-none-any.whl (215 kB)\n",
      "     -------------------------------------- 215.3/215.3 kB 1.6 MB/s eta 0:00:00\n",
      "Requirement already satisfied: pydantic>=1.10.2 in c:\\users\\lenovo\\anaconda3\\lib\\site-packages (from docarray) (1.10.7)\n",
      "Requirement already satisfied: numpy>=1.17.3 in c:\\users\\lenovo\\anaconda3\\lib\\site-packages (from docarray) (1.23.5)\n",
      "Collecting orjson>=3.8.2\n",
      "  Downloading orjson-3.9.0-cp310-none-win_amd64.whl (191 kB)\n",
      "     ------------------------------------- 191.7/191.7 kB 12.1 MB/s eta 0:00:00\n",
      "Requirement already satisfied: typing-inspect>=0.8.0 in c:\\users\\lenovo\\anaconda3\\lib\\site-packages (from docarray) (0.8.0)\n",
      "Collecting rich>=13.1.0\n",
      "  Downloading rich-13.4.1-py3-none-any.whl (239 kB)\n",
      "     ------------------------------------- 239.4/239.4 kB 14.3 MB/s eta 0:00:00\n",
      "Collecting types-requests>=2.28.11.6\n",
      "  Downloading types_requests-2.31.0.1-py3-none-any.whl (14 kB)\n",
      "Requirement already satisfied: typing-extensions>=4.2.0 in c:\\users\\lenovo\\anaconda3\\lib\\site-packages (from pydantic>=1.10.2->docarray) (4.5.0)\n",
      "Collecting pygments<3.0.0,>=2.13.0\n",
      "  Downloading Pygments-2.15.1-py3-none-any.whl (1.1 MB)\n",
      "     ---------------------------------------- 1.1/1.1 MB 4.5 MB/s eta 0:00:00\n",
      "Collecting markdown-it-py<3.0.0,>=2.2.0\n",
      "  Downloading markdown_it_py-2.2.0-py3-none-any.whl (84 kB)\n",
      "     ---------------------------------------- 84.5/84.5 kB 4.6 MB/s eta 0:00:00\n",
      "Collecting types-urllib3\n",
      "  Downloading types_urllib3-1.26.25.13-py3-none-any.whl (15 kB)\n",
      "Requirement already satisfied: mypy-extensions>=0.3.0 in c:\\users\\lenovo\\anaconda3\\lib\\site-packages (from typing-inspect>=0.8.0->docarray) (0.4.3)\n",
      "Collecting mdurl~=0.1\n",
      "  Downloading mdurl-0.1.2-py3-none-any.whl (10.0 kB)\n",
      "Installing collected packages: types-urllib3, types-requests, pygments, orjson, mdurl, markdown-it-py, rich, docarray\n",
      "  Attempting uninstall: pygments\n",
      "    Found existing installation: Pygments 2.11.2\n",
      "    Uninstalling Pygments-2.11.2:\n",
      "      Successfully uninstalled Pygments-2.11.2\n",
      "  Attempting uninstall: rich\n",
      "    Found existing installation: rich 13.0.1\n",
      "    Uninstalling rich-13.0.1:\n",
      "      Successfully uninstalled rich-13.0.1\n",
      "Successfully installed docarray-0.32.1 markdown-it-py-2.2.0 mdurl-0.1.2 orjson-3.9.0 pygments-2.15.1 rich-13.4.1 types-requests-2.31.0.1 types-urllib3-1.26.25.13\n",
      "Note: you may need to restart the kernel to use updated packages.\n"
     ]
    },
    {
     "name": "stderr",
     "output_type": "stream",
     "text": [
      "ERROR: pip's dependency resolver does not currently take into account all the packages that are installed. This behaviour is the source of the following dependency conflicts.\n",
      "argilla 1.7.0 requires pandas<2.0.0,>=1.0.0, but you have pandas 2.0.1 which is incompatible.\n",
      "argilla 1.7.0 requires rich<=13.0.1, but you have rich 13.4.1 which is incompatible.\n"
     ]
    }
   ],
   "source": [
    "#pip install docarray"
   ]
  },
  {
   "cell_type": "code",
   "execution_count": 12,
   "id": "9e200726",
   "metadata": {
    "height": 64
   },
   "outputs": [],
   "source": [
    "index = VectorstoreIndexCreator(\n",
    "    vectorstore_cls=DocArrayInMemorySearch\n",
    ").from_loaders([loader])"
   ]
  },
  {
   "cell_type": "code",
   "execution_count": 13,
   "id": "34562d81",
   "metadata": {
    "height": 63
   },
   "outputs": [],
   "source": [
    "query =\"who is deepak\""
   ]
  },
  {
   "cell_type": "code",
   "execution_count": 14,
   "id": "cfd0cc37",
   "metadata": {
    "height": 30
   },
   "outputs": [],
   "source": [
    "response = index.query(query)"
   ]
  },
  {
   "cell_type": "code",
   "execution_count": 15,
   "id": "ae21f1ff",
   "metadata": {
    "height": 30,
    "scrolled": true
   },
   "outputs": [
    {
     "data": {
      "text/markdown": [
       " Deepak is a student from Dhanbad, Jharkhand who is seeking an entry-level position to begin his career in a high-level professional environment. He has a B.Tech in Electronics and Communication Engineering and skills in C++, Digital Electronics, Embedded and Robotics, Javascript, React.Js, and Node.Js. He also has hobbies such as playing chess, being a quick learner, having positive thinking, working in teams, and being responsible and sincere."
      ],
      "text/plain": [
       "<IPython.core.display.Markdown object>"
      ]
     },
     "metadata": {},
     "output_type": "display_data"
    }
   ],
   "source": [
    "display(Markdown(response))"
   ]
  },
  {
   "cell_type": "code",
   "execution_count": 16,
   "id": "631396c6",
   "metadata": {
    "height": 30
   },
   "outputs": [],
   "source": [
    "loader = PyPDFLoader(file_path=file)"
   ]
  },
  {
   "cell_type": "code",
   "execution_count": 17,
   "id": "6c2164b5",
   "metadata": {
    "height": 30
   },
   "outputs": [],
   "source": [
    "page = loader.load()"
   ]
  },
  {
   "cell_type": "code",
   "execution_count": 18,
   "id": "4a977f44",
   "metadata": {
    "height": 30
   },
   "outputs": [
    {
     "data": {
      "text/plain": [
       "Document(page_content='DEEP AK JAIS WAL\\nNear sitla mandir, H.E. School Road, Vistipara, Hirapur, Dhanbad,\\nJharkhandsj.deepak.jaiswal@gmail.com\\n9304161106\\nDOB 01/10/1997\\nin\\nhttps://www.linkedin.com/in/deepak-\\njaiswal-34b0b3174\\nObjective Seeking an entry-level position to begin my career in a high-level professional\\nenvironment.\\nEducation\\nSkills c++\\nDigital Electronics\\nEmbedded and Robotics\\nJavascript\\nReact.Js\\nNode.Js\\nProjects\\nHobbies\\nPersonal\\nStrengthsUniversity College of engineering and technology\\nB.Tech (Electronics and communication engineering)\\n2019 — 7.6\\nIndian school of Learning\\nIntermediate\\n2015 — 82%\\nIndian school of Learning\\nMatriculation\\n2013 — 8 CGPA\\nLine following land rover\\nWhen robot is placed on the ﬁxed path,it follows the path b y detecting the\\nline. The robot direction of motion depends on the two sensors outputs.\\nWhen the two sensors are on the line of path, robot moves forward. If the left\\nsensor moves awa y from the line, robot moves towards right. Similarly , if\\nright sensor moves awa y from the path, robot moves towards its left.\\nWhenever robot moves awa y from its path it is detected b y the IR sensor.\\nCell phone oper ated land rover\\nIn this project, the robot is controlled b y a mobile phone that mak es a call to\\nthe mobile phone attached to the robot. In the course of a call, if an y button\\nis pressed, a tone corresponding to the button pressed is heard at the other\\nend of the call. This tone is called ‘dual-tone multiple-frequency’ (D TMF) tone.\\nThe robot perceives this D TMF tone with the help of the phone stack ed in the\\nrobot\\nHOBBIES\\nPlaying chess\\nQuick learner\\nPositive thinking\\nTeam working\\nResponsible and sincere', metadata={'source': 'updated_cv.pdf', 'page': 0})"
      ]
     },
     "execution_count": 18,
     "metadata": {},
     "output_type": "execute_result"
    }
   ],
   "source": [
    "page[0]"
   ]
  },
  {
   "cell_type": "code",
   "execution_count": 19,
   "id": "e875693a",
   "metadata": {
    "height": 47
   },
   "outputs": [],
   "source": [
    "from langchain.embeddings import OpenAIEmbeddings\n",
    "embeddings = OpenAIEmbeddings()"
   ]
  },
  {
   "cell_type": "code",
   "execution_count": 20,
   "id": "779bec75",
   "metadata": {
    "height": 46
   },
   "outputs": [],
   "source": [
    "embed = embeddings.embed_query(\"Hi my name is Harrison\")"
   ]
  },
  {
   "cell_type": "code",
   "execution_count": 21,
   "id": "699aaaf9",
   "metadata": {
    "height": 30
   },
   "outputs": [
    {
     "name": "stdout",
     "output_type": "stream",
     "text": [
      "1536\n"
     ]
    }
   ],
   "source": [
    "print(len(embed))"
   ]
  },
  {
   "cell_type": "code",
   "execution_count": 22,
   "id": "9d00d346",
   "metadata": {
    "height": 30
   },
   "outputs": [
    {
     "name": "stdout",
     "output_type": "stream",
     "text": [
      "[-0.02186359278857708, 0.006734037306159735, -0.01820078119635582, -0.03919587284326553, -0.014047075994312763]\n"
     ]
    }
   ],
   "source": [
    "print(embed[:5])"
   ]
  },
  {
   "cell_type": "code",
   "execution_count": 23,
   "id": "27ad0bb0",
   "metadata": {
    "height": 81
   },
   "outputs": [],
   "source": [
    "db = DocArrayInMemorySearch.from_documents(\n",
    "    docs, \n",
    "    embeddings\n",
    ")"
   ]
  },
  {
   "cell_type": "code",
   "execution_count": 24,
   "id": "0329bfd5",
   "metadata": {
    "height": 30
   },
   "outputs": [],
   "source": [
    "query = \"qualification of deepak\""
   ]
  },
  {
   "cell_type": "code",
   "execution_count": 25,
   "id": "7909c6b7",
   "metadata": {
    "height": 30
   },
   "outputs": [],
   "source": [
    "docs = db.similarity_search(query)"
   ]
  },
  {
   "cell_type": "code",
   "execution_count": 26,
   "id": "43321853",
   "metadata": {
    "height": 30
   },
   "outputs": [
    {
     "data": {
      "text/plain": [
       "1"
      ]
     },
     "execution_count": 26,
     "metadata": {},
     "output_type": "execute_result"
    }
   ],
   "source": [
    "len(docs)"
   ]
  },
  {
   "cell_type": "code",
   "execution_count": 27,
   "id": "6eba90b5",
   "metadata": {
    "height": 30
   },
   "outputs": [
    {
     "data": {
      "text/plain": [
       "Document(page_content='DEEP AK JAIS WAL\\nNear sitla mandir, H.E. School Road, Vistipara, Hirapur, Dhanbad,\\nJharkhandsj.deepak.jaiswal@gmail.com\\n9304161106\\nDOB 01/10/1997\\nin\\nhttps://www.linkedin.com/in/deepak-\\njaiswal-34b0b3174\\nObjective Seeking an entry-level position to begin my career in a high-level professional\\nenvironment.\\nEducation\\nSkills c++\\nDigital Electronics\\nEmbedded and Robotics\\nJavascript\\nReact.Js\\nNode.Js\\nProjects\\nHobbies\\nPersonal\\nStrengthsUniversity College of engineering and technology\\nB.Tech (Electronics and communication engineering)\\n2019 — 7.6\\nIndian school of Learning\\nIntermediate\\n2015 — 82%\\nIndian school of Learning\\nMatriculation\\n2013 — 8 CGPA\\nLine following land rover\\nWhen robot is placed on the ﬁxed path,it follows the path b y detecting the\\nline. The robot direction of motion depends on the two sensors outputs.\\nWhen the two sensors are on the line of path, robot moves forward. If the left\\nsensor moves awa y from the line, robot moves towards right. Similarly , if\\nright sensor moves awa y from the path, robot moves towards its left.\\nWhenever robot moves awa y from its path it is detected b y the IR sensor.\\nCell phone oper ated land rover\\nIn this project, the robot is controlled b y a mobile phone that mak es a call to\\nthe mobile phone attached to the robot. In the course of a call, if an y button\\nis pressed, a tone corresponding to the button pressed is heard at the other\\nend of the call. This tone is called ‘dual-tone multiple-frequency’ (D TMF) tone.\\nThe robot perceives this D TMF tone with the help of the phone stack ed in the\\nrobot\\nHOBBIES\\nPlaying chess\\nQuick learner\\nPositive thinking\\nTeam working\\nResponsible and sincere', metadata={'source': 'updated_cv.pdf', 'page': 0})"
      ]
     },
     "execution_count": 27,
     "metadata": {},
     "output_type": "execute_result"
    }
   ],
   "source": [
    "docs[0]"
   ]
  },
  {
   "cell_type": "code",
   "execution_count": 28,
   "id": "c0c3596e",
   "metadata": {
    "height": 30
   },
   "outputs": [],
   "source": [
    "retriever = db.as_retriever()"
   ]
  },
  {
   "cell_type": "code",
   "execution_count": 29,
   "id": "0625f5e8",
   "metadata": {
    "height": 47
   },
   "outputs": [],
   "source": [
    "llm = ChatOpenAI(temperature = 0.0)\n"
   ]
  },
  {
   "cell_type": "code",
   "execution_count": 30,
   "id": "a573f58a",
   "metadata": {
    "height": 63
   },
   "outputs": [],
   "source": [
    "qdocs = \"\".join([docs[i].page_content for i in range(len(docs))])\n"
   ]
  },
  {
   "cell_type": "code",
   "execution_count": 31,
   "id": "14682d95",
   "metadata": {
    "height": 80
   },
   "outputs": [],
   "source": [
    "response = llm.call_as_llm(f\"{qdocs} Question: who is deepak.\") \n"
   ]
  },
  {
   "cell_type": "code",
   "execution_count": 32,
   "id": "8bba545b",
   "metadata": {
    "height": 30
   },
   "outputs": [
    {
     "data": {
      "text/markdown": [
       "Deepak Jaiswal is a recent graduate with a Bachelor's degree in Electronics and Communication Engineering. He is seeking an entry-level position to begin his career in a high-level professional environment. He has skills in C++, Digital Electronics, Embedded and Robotics, Javascript, React.Js, and Node.Js. He has completed projects in line following land rover and cell phone operated land rover. His hobbies include playing chess, and he is a quick learner, positive thinker, team player, responsible, and sincere."
      ],
      "text/plain": [
       "<IPython.core.display.Markdown object>"
      ]
     },
     "metadata": {},
     "output_type": "display_data"
    }
   ],
   "source": [
    "display(Markdown(response))"
   ]
  },
  {
   "cell_type": "code",
   "execution_count": 33,
   "id": "32c94d22",
   "metadata": {
    "height": 115
   },
   "outputs": [],
   "source": [
    "qa_stuff = RetrievalQA.from_chain_type(\n",
    "    llm=llm, \n",
    "    chain_type=\"stuff\", \n",
    "    retriever=retriever, \n",
    "    verbose=True\n",
    ")"
   ]
  },
  {
   "cell_type": "code",
   "execution_count": 34,
   "id": "e4769316",
   "metadata": {
    "height": 63
   },
   "outputs": [],
   "source": [
    "query =  \"list of project of deepak\""
   ]
  },
  {
   "cell_type": "code",
   "execution_count": 35,
   "id": "1fc3c2f3",
   "metadata": {
    "height": 30
   },
   "outputs": [
    {
     "name": "stdout",
     "output_type": "stream",
     "text": [
      "\n",
      "\n",
      "\u001b[1m> Entering new RetrievalQA chain...\u001b[0m\n",
      "\n",
      "\u001b[1m> Finished chain.\u001b[0m\n"
     ]
    }
   ],
   "source": [
    "response = qa_stuff.run(query)"
   ]
  },
  {
   "cell_type": "code",
   "execution_count": 36,
   "id": "fba1a5db",
   "metadata": {
    "height": 30
   },
   "outputs": [
    {
     "data": {
      "text/markdown": [
       "Deepak has two projects listed in the context:\n",
       "1. Line following land rover: A robot that follows a fixed path by detecting a line. The robot's direction of motion depends on the two sensors' outputs. When the two sensors are on the path, the robot moves forward. If the left sensor moves away from the line, the robot moves towards the right. Similarly, if the right sensor moves away from the path, the robot moves towards its left. Whenever the robot moves away from its path, it is detected by the IR sensor.\n",
       "2. Cell phone operated land rover: In this project, the robot is controlled by a mobile phone that makes a call to the mobile phone attached to the robot. In the course of a call, if any button is pressed, a tone corresponding to the button pressed is heard at the other end of the call. This tone is called ‘dual-tone multiple-frequency’ (DTMF) tone. The robot perceives this DTMF tone with the help of the phone stacked in the robot."
      ],
      "text/plain": [
       "<IPython.core.display.Markdown object>"
      ]
     },
     "metadata": {},
     "output_type": "display_data"
    }
   ],
   "source": [
    "display(Markdown(response))"
   ]
  },
  {
   "cell_type": "code",
   "execution_count": 37,
   "id": "500ec062",
   "metadata": {
    "height": 30
   },
   "outputs": [],
   "source": [
    "response = index.query(query, llm=llm)"
   ]
  },
  {
   "cell_type": "code",
   "execution_count": 38,
   "id": "a9b58916",
   "metadata": {
    "height": 30
   },
   "outputs": [
    {
     "name": "stdout",
     "output_type": "stream",
     "text": [
      "Deepak has two projects listed in the context:\n",
      "\n",
      "1. Line following land rover: A robot that follows a fixed path by detecting a line. The robot's direction of motion depends on the two sensors' outputs. When the two sensors are on the line of the path, the robot moves forward. If the left sensor moves away from the line, the robot moves towards the right. Similarly, if the right sensor moves away from the path, the robot moves towards its left. Whenever the robot moves away from its path, it is detected by the IR sensor.\n",
      "\n",
      "2. Cell phone operated land rover: In this project, the robot is controlled by a mobile phone that makes a call to the mobile phone attached to the robot. In the course of a call, if any button is pressed, a tone corresponding to the button pressed is heard at the other end of the call. This tone is called ‘dual-tone multiple-frequency’ (DTMF) tone. The robot perceives this DTMF tone with the help of the phone stacked in the robot.\n"
     ]
    }
   ],
   "source": [
    "print(response)"
   ]
  },
  {
   "cell_type": "code",
   "execution_count": null,
   "id": "d590b337",
   "metadata": {
    "height": 30
   },
   "outputs": [],
   "source": []
  },
  {
   "cell_type": "code",
   "execution_count": null,
   "id": "b2cb587c",
   "metadata": {
    "height": 30
   },
   "outputs": [],
   "source": []
  },
  {
   "cell_type": "code",
   "execution_count": null,
   "id": "1ec249f1",
   "metadata": {
    "height": 30
   },
   "outputs": [],
   "source": []
  },
  {
   "cell_type": "code",
   "execution_count": null,
   "id": "9d64f166",
   "metadata": {
    "height": 30
   },
   "outputs": [],
   "source": []
  },
  {
   "cell_type": "code",
   "execution_count": null,
   "id": "21322e7e",
   "metadata": {
    "height": 30
   },
   "outputs": [],
   "source": []
  }
 ],
 "metadata": {
  "kernelspec": {
   "display_name": "Python 3 (ipykernel)",
   "language": "python",
   "name": "python3"
  },
  "language_info": {
   "codemirror_mode": {
    "name": "ipython",
    "version": 3
   },
   "file_extension": ".py",
   "mimetype": "text/x-python",
   "name": "python",
   "nbconvert_exporter": "python",
   "pygments_lexer": "ipython3",
   "version": "3.10.9"
  }
 },
 "nbformat": 4,
 "nbformat_minor": 5
}
